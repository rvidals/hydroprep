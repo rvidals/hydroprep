{
 "cells": [
  {
   "cell_type": "code",
   "execution_count": 1,
   "id": "cc984e85",
   "metadata": {},
   "outputs": [],
   "source": [
    "import os \n",
    "import pandas as pd "
   ]
  },
  {
   "cell_type": "code",
   "execution_count": 5,
   "id": "1309ca66",
   "metadata": {},
   "outputs": [],
   "source": [
    "path_plu = os.path.join(os.getcwd(), 'DADOS', 'TABELAS', \"PLU_Series_ANA.txt\")\n",
    "df_plu = pd.read_csv(path_plu, sep= \"\\t\")"
   ]
  },
  {
   "cell_type": "code",
   "execution_count": 14,
   "id": "7b5f513b",
   "metadata": {},
   "outputs": [],
   "source": [
    "# Dataframe com a data inical e final das estações selecionadas \n",
    "\n",
    "estacoes_selecionadas = [1547002, 1547011, 1547012, 1547013]\n",
    "\n",
    "estacoes_bartolomeu = df_plu[df_plu[\"Cod.estacao\"].isin(estacoes_selecionadas)]\n"
   ]
  },
  {
   "cell_type": "code",
   "execution_count": null,
   "id": "0d2bd853",
   "metadata": {},
   "outputs": [
    {
     "data": {
      "text/plain": [
       "(62498, 5)"
      ]
     },
     "execution_count": 15,
     "metadata": {},
     "output_type": "execute_result"
    }
   ],
   "source": [
    "estacoes_bartolomeu\n"
   ]
  },
  {
   "cell_type": "code",
   "execution_count": null,
   "id": "034ddc18",
   "metadata": {},
   "outputs": [],
   "source": [
    "# Pegar a data inicial e final da variável \"Data\" de cada estação\n"
   ]
  },
  {
   "cell_type": "markdown",
   "id": "5055a7c4",
   "metadata": {},
   "source": [
    "Estações Fluviométricas de Bartolomeu parte Sul"
   ]
  },
  {
   "cell_type": "code",
   "execution_count": 2,
   "id": "f7596ba2",
   "metadata": {},
   "outputs": [],
   "source": [
    "path_flu = os.path.join(os.getcwd(), \"FLU_Series_ANA.txt\")\n",
    "df_flu = pd.read_csv(path_flu, sep= \"\\t\")"
   ]
  },
  {
   "cell_type": "code",
   "execution_count": 4,
   "id": "71159fc8",
   "metadata": {},
   "outputs": [],
   "source": [
    "estacoes_selecionadas = [60180054,\n",
    "60471175,\n",
    "60471180,\n",
    "60471183,\n",
    "60471185,\n",
    "60471190,\n",
    "60471200,\n",
    "60473000,\n",
    "60473001,\n",
    "60473020,\n",
    "60473030,\n",
    "60473045,\n",
    "60473047,\n",
    "60473049,\n",
    "60473050,\n",
    "60473100,\n",
    "60473110,\n",
    "60473115,\n",
    "60473120,\n",
    "60473550,\n",
    "60473800,\n",
    "60474000,\n",
    "60474100,\n",
    "60474200,\n",
    "60474300,\n",
    "60476000,\n",
    "60476100,\n",
    "60476150,\n",
    "60476155,\n",
    "60480020,\n",
    "60480052,\n",
    "60480055,\n",
    "60480060\n",
    "]"
   ]
  },
  {
   "cell_type": "code",
   "execution_count": 3,
   "id": "2a2b9be3",
   "metadata": {},
   "outputs": [],
   "source": [
    "# Analise rápida - excluir\n",
    "estacoes_selecionadas = [60180054,\n",
    "60473550,\n",
    "60476150,\n",
    "60476155,\n",
    "60476160,\n",
    "60476170,\n",
    "60479285,\n",
    "60480020,\n",
    "60480040,\n",
    "60480050,\n",
    "60480052,\n",
    "60480055,\n",
    "60480060,\n",
    "60480100\n",
    "]"
   ]
  },
  {
   "cell_type": "code",
   "execution_count": 4,
   "id": "8a8947ce",
   "metadata": {},
   "outputs": [
    {
     "data": {
      "text/plain": [
       "14"
      ]
     },
     "execution_count": 4,
     "metadata": {},
     "output_type": "execute_result"
    }
   ],
   "source": [
    "len(estacoes_selecionadas)"
   ]
  },
  {
   "cell_type": "code",
   "execution_count": 5,
   "id": "8ed8e684",
   "metadata": {},
   "outputs": [
    {
     "name": "stderr",
     "output_type": "stream",
     "text": [
      "C:\\Users\\rogerio.siqueira\\AppData\\Local\\Temp\\ipykernel_29892\\2573414324.py:3: FutureWarning: unique with argument that is not not a Series, Index, ExtensionArray, or np.ndarray is deprecated and will raise in a future version.\n",
      "  np.sort(pd.unique(estacoes_selecionadas))\n"
     ]
    },
    {
     "data": {
      "text/plain": [
       "array([60180054, 60473550, 60476150, 60476155, 60476160, 60476170,\n",
       "       60479285, 60480020, 60480040, 60480050, 60480052, 60480055,\n",
       "       60480060, 60480100])"
      ]
     },
     "execution_count": 5,
     "metadata": {},
     "output_type": "execute_result"
    }
   ],
   "source": [
    "import numpy as np\n",
    "\n",
    "np.sort(pd.unique(estacoes_selecionadas))"
   ]
  },
  {
   "cell_type": "code",
   "execution_count": 6,
   "id": "eb1c0422",
   "metadata": {},
   "outputs": [],
   "source": [
    "# estacoes_selecionadas = [60180054, 60471175, 60471180, 60471183, 60471185, 60471190,\n",
    "#        60471200, 60473000, 60473001, 60473020, 60473030, 60473045,\n",
    "#        60473047, 60473049, 60473050, 60473100, 60473110, 60473115,\n",
    "#        60473120, 60473550, 60473800, 60474000, 60474100, 60474200,\n",
    "#        60474300, 60476000, 60476100, 60476150, 60476155, 60480020,\n",
    "#        60480052, 60480055, 60480060]\n",
    "\n",
    "# Análise rapida - excluir\n",
    "estacoes_selecionadas = [60180054, 60473550, 60476150, 60476155, 60476160, 60476170,\n",
    "       60479285, 60480020, 60480040, 60480050, 60480052, 60480055,\n",
    "       60480060, 60480100]\n",
    "\n",
    "estacoes_flu_bartolomeu = df_flu[df_flu[\"Cod.estacao\"].isin(estacoes_selecionadas)]"
   ]
  },
  {
   "cell_type": "code",
   "execution_count": 7,
   "id": "87b59bb4",
   "metadata": {},
   "outputs": [],
   "source": [
    "df_flu[\"Cod.estacao\"] = df_flu[\"Cod.estacao\"].astype(int)\n",
    "estacoes_flu_bartolomeu = df_flu[df_flu[\"Cod.estacao\"].isin(estacoes_selecionadas)]"
   ]
  },
  {
   "cell_type": "code",
   "execution_count": 8,
   "id": "c1104b77",
   "metadata": {},
   "outputs": [
    {
     "data": {
      "text/plain": [
       "array([60476150, 60476155, 60476160, 60476170, 60480055])"
      ]
     },
     "execution_count": 8,
     "metadata": {},
     "output_type": "execute_result"
    }
   ],
   "source": [
    "import numpy as np\n",
    "\n",
    "np.sort(estacoes_flu_bartolomeu[\"Cod.estacao\"].unique())"
   ]
  },
  {
   "cell_type": "code",
   "execution_count": 9,
   "id": "fe5c43fc",
   "metadata": {},
   "outputs": [],
   "source": [
    "# Pegar a primeira data na varáivel Data e a última na mesma variável para cada estação\n",
    "estacoes_dados = {}\n",
    "for estacao in estacoes_flu_bartolomeu[\"Cod.estacao\"].unique():\n",
    "    estacao_dados = estacoes_flu_bartolomeu[estacoes_flu_bartolomeu[\"Cod.estacao\"] == estacao]\n",
    "    primeira_data = estacao_dados[\"Data\"].min()\n",
    "    ultima_data = estacao_dados[\"Data\"].max()\n",
    "    estacoes_dados[estacao] = {\"primeira_data\": primeira_data, \"ultima_data\": ultima_data}\n"
   ]
  },
  {
   "cell_type": "code",
   "execution_count": 10,
   "id": "4ca3831c",
   "metadata": {},
   "outputs": [
    {
     "data": {
      "text/plain": [
       "{60476150: {'primeira_data': '1992-11-01', 'ultima_data': '1999-01-31'},\n",
       " 60476155: {'primeira_data': '2009-05-13', 'ultima_data': '2018-03-31'},\n",
       " 60476160: {'primeira_data': '2007-07-09', 'ultima_data': '2012-09-30'},\n",
       " 60476170: {'primeira_data': '2009-05-12', 'ultima_data': '2017-03-31'},\n",
       " 60480055: {'primeira_data': '2016-09-01', 'ultima_data': '2024-03-31'}}"
      ]
     },
     "execution_count": 10,
     "metadata": {},
     "output_type": "execute_result"
    }
   ],
   "source": [
    "estacoes_dados\n"
   ]
  }
 ],
 "metadata": {
  "kernelspec": {
   "display_name": "geo_py311",
   "language": "python",
   "name": "python3"
  },
  "language_info": {
   "codemirror_mode": {
    "name": "ipython",
    "version": 3
   },
   "file_extension": ".py",
   "mimetype": "text/x-python",
   "name": "python",
   "nbconvert_exporter": "python",
   "pygments_lexer": "ipython3",
   "version": "3.11.8"
  }
 },
 "nbformat": 4,
 "nbformat_minor": 5
}
