{
 "cells": [
  {
   "cell_type": "code",
   "execution_count": 1,
   "id": "31c84cf8",
   "metadata": {},
   "outputs": [],
   "source": [
    "import os\n",
    "import pandas as pd\n",
    "from datetime import datetime\n",
    "from tqdm import tqdm   # Acrescentado tqdm para barra de progresso"
   ]
  },
  {
   "cell_type": "code",
   "execution_count": 2,
   "id": "0861ee4b",
   "metadata": {},
   "outputs": [],
   "source": [
    "def ler_csv(arquivo_csv, cod_estacao, dt_inicio, dt_fim):\n",
    "    \"\"\"Lê o csv.\"\"\"\n",
    "    df = pd.read_csv(arquivo_csv, sep='\\\\t', engine='python')\n",
    "    # Corrigir nomes das colunas para remover aspas e facilitar o acesso\n",
    "    df.columns = [col.strip().replace('\"', '') for col in df.columns]\n",
    "    df.rename(columns={\"Cod.estacao\": \"cod_estacao\"}, inplace=True)\n",
    "    df = df[df[\"cod_estacao\"] == cod_estacao]\n",
    "    df = df[(df[\"Data\"] >= dt_inicio) & (df[\"Data\"] <= dt_fim)]\n",
    "    return df\n",
    "\n",
    "def criar_arquivo_dados_vazao_SWATCUP_geral(df, var_nome: str, nome_arquivo: str, texto: str = \"FLOW_OUT\"):\n",
    "    \"\"\"Cria um arquivo de dados de vazão formatado.\"\"\"\n",
    "\n",
    "    df['n'] = df.index + 1\n",
    "    df[var_nome] = df[var_nome].round(2)\n",
    "\n",
    "    with open(f\"{nome_arquivo}.txt\", 'w') as f:\n",
    "\n",
    "        for index, row in df.iterrows():\n",
    "            data = row['Data']\n",
    "            data = data.strftime(\"%d_%m_%Y\")\n",
    "            f.write(f\"\\t{texto}_{data}\\t{row['n']}\\t{row[var_nome]}\\n\")\n",
    "        print(f\"Arquivo '{nome_arquivo}' criado com sucesso.\")\n",
    "\n",
    "def criar_arquivo_dados_vazao_SWATCUP_condicionamento_dia(\n",
    "    df, var_nome: str, nome_arquivo: str, condicao: str, texto: str = \"FLOW_OUT\", proporcao_cal: float = 0.7\n",
    "):\n",
    "    \"\"\"\n",
    "    Cria um arquivo de dados de vazão formatado e faz o split em anos completos.\n",
    "    'condicao' pode ser 'cal' (calibração) ou 'val' (validação).\n",
    "    'proporcao_cal' permite inverter: 0.3 para calibrar com 30% inicial, 0.7 padrão para 70% inicial.\n",
    "    \"\"\"\n",
    "    # resetar index \n",
    "    df['n'] = df.reset_index(drop=True).index + 1\n",
    "    df[var_nome] = df[var_nome].round(2)\n",
    "    df['Data'] = pd.to_datetime(df['Data'])\n",
    "    df = df[df[var_nome].notna()]\n",
    "    \n",
    "    \n",
    "    # Encontrar o cutoff em proporção de linhas\n",
    "    cutoff_idx = int(len(df) * proporcao_cal)\n",
    "    cutoff_data = df.iloc[cutoff_idx]['Data']\n",
    "    cutoff_year = cutoff_data.year\n",
    "    \n",
    "    if condicao == \"cal\":\n",
    "        # Calibração: até o último dia do ano do cutoff\n",
    "        fim_cal = pd.Timestamp(year=cutoff_year, month=12, day=31)\n",
    "        df_sel = df[df['Data'] <= fim_cal]\n",
    "        print(\"Calibração:\", df_sel[\"Data\"].min(), \"→\", df_sel[\"Data\"].max())\n",
    "    elif condicao == \"val\":\n",
    "        # Validação: a partir do primeiro dia do ano seguinte ao cutoff\n",
    "        ini_val = pd.Timestamp(year=cutoff_year + 1, month=1, day=1)\n",
    "        df_sel = df[df['Data'] >= ini_val]\n",
    "        print(\"Validação:\", df_sel[\"Data\"].min(), \"→\", df_sel[\"Data\"].max())\n",
    "    else:\n",
    "        raise ValueError(\"condicao deve ser 'cal' ou 'val'\")\n",
    "\n",
    "    with open(f\"{nome_arquivo}_{condicao}_{proporcao_cal}_dia.txt\", 'w') as f:\n",
    "\n",
    "        for index, row in df_sel.iterrows():\n",
    "            data = row['Data']\n",
    "            \n",
    "            data = data.strftime(\"%d_%m_%Y\")\n",
    "            f.write(f\"{row['n']}\\t{texto}_{data}\\t{row[var_nome]}\\n\")\n",
    "        print(f\"Arquivo '{nome_arquivo} {condicao} {proporcao_cal} dia' criado com sucesso.\")\n",
    "\n",
    "def criar_arquivo_dados_vazao_SWATCUP_condicionamento_mes(\n",
    "    df, var_nome: str, nome_arquivo: str, condicao: str, texto: str = \"FLOW_OUT\", proporcao_cal: float = 0.7, ano_modelo=None\n",
    "):\n",
    "    \"\"\"\n",
    "    Cria um arquivo de dados de vazão formatado e faz o split em anos completos.\n",
    "    'condicao' pode ser 'cal' (calibração) ou 'val' (validação).\n",
    "    'proporcao_cal' permite inverter: 0.3 para calibrar com 30% inicial, 0.7 padrão para 70% inicial.\n",
    "    \"\"\"\n",
    "    df['Data'] = pd.to_datetime(df['Data'])\n",
    "    monthly = df.groupby(df['Data'].dt.to_period(\"M\"))[[var_nome]].mean().reset_index()\n",
    "    monthly['Data'] = monthly['Data'].dt.to_timestamp()  # Converte Period para Timestamp (primeiro dia do mês)\n",
    "    monthly[var_nome] = monthly[var_nome].round(2)\n",
    "    monthly['n'] = monthly.reset_index(drop=True).index + 1\n",
    "    monthly = monthly[monthly[var_nome].notna()]\n",
    "\n",
    "    # Encontrar o cutoff em proporção de linhas\n",
    "    cutoff_idx = int(len(monthly) * proporcao_cal)\n",
    "    cutoff_data = monthly.iloc[cutoff_idx]['Data']\n",
    "    cutoff_year = cutoff_data.year\n",
    "    \n",
    "    if condicao == \"cal\":\n",
    "        # Calibração: até o último dia do ano do cutoff\n",
    "        fim_cal = pd.Timestamp(year=cutoff_year, month=12, day=31)\n",
    "        df_sel = monthly[monthly['Data'] <= fim_cal]\n",
    "        print(\"Calibração:\", df_sel[\"Data\"].min(), \"→\", df_sel[\"Data\"].max())\n",
    "    elif condicao == \"val\":\n",
    "        # Validação: a partir do primeiro dia do ano seguinte ao cutoff\n",
    "        ini_val = pd.Timestamp(year=cutoff_year + 1, month=1, day=1)\n",
    "        df_sel = monthly[monthly['Data'] >= ini_val]\n",
    "        print(\"Validação:\", df_sel[\"Data\"].min(), \"→\", df_sel[\"Data\"].max())\n",
    "    else:\n",
    "        raise ValueError(\"condicao deve ser 'cal' ou 'val'\")\n",
    "\n",
    "    # return df_sel\n",
    "    \n",
    "    with open(f\"{nome_arquivo}_{condicao}_{proporcao_cal}_mes.txt\", 'w') as f:\n",
    "\n",
    "        for index, row in df_sel.iterrows():\n",
    "            data = row['Data']\n",
    "            \n",
    "            data = data.strftime(\"%m_%Y\")\n",
    "            # print(data)\n",
    "            f.write(f\"{row['n']}\\t{texto}_{data}\\t{row[var_nome]}\\n\")\n",
    "        print(f\"Arquivo '{nome_arquivo} {condicao} {proporcao_cal} meses' criado com sucesso.\")\n",
    "\n",
    "def criar_arquivo_dados_vazao_SWATCUP_validacao_txt(df, var_nome, nome_arquivo ):\n",
    "    \"\"\"\n",
    "    Cria um arquivo de dados de vazão formatado.\n",
    "    \"\"\"\n",
    "\n",
    "    with open(f\"{nome_arquivo}.txt\", 'w') as f:\n",
    "\n",
    "        for index, row in df.iterrows():\n",
    "            f.write(f\"{row[var_nome]}\\n\")\n",
    "        print(f\"Arquivo '{nome_arquivo}' criado com sucesso.\")"
   ]
  },
  {
   "cell_type": "code",
   "execution_count": 3,
   "id": "218b3795",
   "metadata": {},
   "outputs": [],
   "source": [
    "df = ler_csv(\"FLU_Series_ANA.txt\", 60476100, \"1978-01-01\", \"2014-12-31\")"
   ]
  },
  {
   "cell_type": "code",
   "execution_count": 4,
   "id": "178088d0",
   "metadata": {},
   "outputs": [],
   "source": [
    "# Checar se há nan ou null na coluna 'Vazao'\n",
    "if df['Vazao'].isnull().values.any():\n",
    "    print(\"Existem valores nulos na coluna 'Vazao'\")\n",
    "\n",
    "# Mostrar que linhas são\n",
    "    df_nan = df[df['Vazao'].isnull()]"
   ]
  },
  {
   "cell_type": "code",
   "execution_count": 5,
   "id": "a2cacc6b",
   "metadata": {},
   "outputs": [],
   "source": [
    "# df_nan\n"
   ]
  },
  {
   "cell_type": "code",
   "execution_count": 6,
   "id": "2b5fa203",
   "metadata": {},
   "outputs": [
    {
     "data": {
      "application/vnd.microsoft.datawrangler.viewer.v0+json": {
       "columns": [
        {
         "name": "index",
         "rawType": "int64",
         "type": "integer"
        },
        {
         "name": "cod_estacao",
         "rawType": "int64",
         "type": "integer"
        },
        {
         "name": "NivelConsistencia",
         "rawType": "int64",
         "type": "integer"
        },
        {
         "name": "Data",
         "rawType": "object",
         "type": "string"
        },
        {
         "name": "Hora",
         "rawType": "object",
         "type": "string"
        },
        {
         "name": "Vazao",
         "rawType": "float64",
         "type": "float"
        }
       ],
       "ref": "716e0ddd-7bd9-4b69-8c21-52d63890e1bf",
       "rows": [
        [
         "383512",
         "60476100",
         "1",
         "1978-01-01",
         "\"00:00:00\"",
         "15.5264"
        ],
        [
         "383513",
         "60476100",
         "1",
         "1978-01-02",
         "\"00:00:00\"",
         "18.9841"
        ],
        [
         "383514",
         "60476100",
         "1",
         "1978-01-03",
         "\"00:00:00\"",
         "16.905"
        ],
        [
         "383515",
         "60476100",
         "1",
         "1978-01-04",
         "\"00:00:00\"",
         "16.2839"
        ],
        [
         "383516",
         "60476100",
         "1",
         "1978-01-05",
         "\"00:00:00\"",
         "19.3318"
        ],
        [
         "383517",
         "60476100",
         "1",
         "1978-01-06",
         "\"00:00:00\"",
         "36.1517"
        ],
        [
         "383518",
         "60476100",
         "1",
         "1978-01-07",
         "\"00:00:00\"",
         "23.4587"
        ],
        [
         "383519",
         "60476100",
         "1",
         "1978-01-08",
         "\"00:00:00\"",
         "19.5406"
        ],
        [
         "383520",
         "60476100",
         "1",
         "1978-01-09",
         "\"00:00:00\"",
         "16.2839"
        ],
        [
         "383521",
         "60476100",
         "1",
         "1978-01-10",
         "\"00:00:00\"",
         "15.8016"
        ],
        [
         "383522",
         "60476100",
         "1",
         "1978-01-11",
         "\"00:00:00\"",
         "21.355"
        ],
        [
         "383523",
         "60476100",
         "1",
         "1978-01-12",
         "\"00:00:00\"",
         "39.5303"
        ],
        [
         "383524",
         "60476100",
         "1",
         "1978-01-13",
         "\"00:00:00\"",
         "50.7517"
        ],
        [
         "383525",
         "60476100",
         "1",
         "1978-01-14",
         "\"00:00:00\"",
         "41.0465"
        ],
        [
         "383526",
         "60476100",
         "1",
         "1978-01-15",
         "\"00:00:00\"",
         "33.4278"
        ],
        [
         "383527",
         "60476100",
         "1",
         "1978-01-16",
         "\"00:00:00\"",
         "35.8027"
        ],
        [
         "383528",
         "60476100",
         "1",
         "1978-01-17",
         "\"00:00:00\"",
         "39.1577"
        ],
        [
         "383529",
         "60476100",
         "1",
         "1978-01-18",
         "\"00:00:00\"",
         "32.446"
        ],
        [
         "383530",
         "60476100",
         "1",
         "1978-01-19",
         "\"00:00:00\"",
         "25.0079"
        ],
        [
         "383531",
         "60476100",
         "1",
         "1978-01-20",
         "\"00:00:00\"",
         "20.4467"
        ],
        [
         "383532",
         "60476100",
         "1",
         "1978-01-21",
         "\"00:00:00\"",
         "18.6367"
        ],
        [
         "383533",
         "60476100",
         "1",
         "1978-01-22",
         "\"00:00:00\"",
         "17.5966"
        ],
        [
         "383534",
         "60476100",
         "1",
         "1978-01-23",
         "\"00:00:00\"",
         "17.0432"
        ],
        [
         "383535",
         "60476100",
         "1",
         "1978-01-24",
         "\"00:00:00\"",
         "16.5598"
        ],
        [
         "383536",
         "60476100",
         "1",
         "1978-01-25",
         "\"00:00:00\"",
         "15.4576"
        ],
        [
         "383537",
         "60476100",
         "1",
         "1978-01-26",
         "\"00:00:00\"",
         "15.1827"
        ],
        [
         "383538",
         "60476100",
         "1",
         "1978-01-27",
         "\"00:00:00\"",
         "14.8394"
        ],
        [
         "383539",
         "60476100",
         "1",
         "1978-01-28",
         "\"00:00:00\"",
         "14.0858"
        ],
        [
         "383540",
         "60476100",
         "1",
         "1978-01-29",
         "\"00:00:00\"",
         "13.6756"
        ],
        [
         "383541",
         "60476100",
         "1",
         "1978-01-30",
         "\"00:00:00\"",
         "13.1978"
        ],
        [
         "383542",
         "60476100",
         "1",
         "1978-01-31",
         "\"00:00:00\"",
         "12.9252"
        ],
        [
         "383543",
         "60476100",
         "1",
         "1978-02-01",
         "\"00:00:00\"",
         "12.653"
        ],
        [
         "383544",
         "60476100",
         "1",
         "1978-02-02",
         "\"00:00:00\"",
         "12.5169"
        ],
        [
         "383545",
         "60476100",
         "1",
         "1978-02-03",
         "\"00:00:00\"",
         "12.5169"
        ],
        [
         "383546",
         "60476100",
         "1",
         "1978-02-04",
         "\"00:00:00\"",
         "14.9767"
        ],
        [
         "383547",
         "60476100",
         "1",
         "1978-02-05",
         "\"00:00:00\"",
         "15.1827"
        ],
        [
         "383548",
         "60476100",
         "1",
         "1978-02-06",
         "\"00:00:00\"",
         "14.2227"
        ],
        [
         "383549",
         "60476100",
         "1",
         "1978-02-07",
         "\"00:00:00\"",
         "13.949"
        ],
        [
         "383550",
         "60476100",
         "1",
         "1978-02-08",
         "\"00:00:00\"",
         "13.8122"
        ],
        [
         "383551",
         "60476100",
         "1",
         "1978-02-09",
         "\"00:00:00\"",
         "23.4587"
        ],
        [
         "383552",
         "60476100",
         "1",
         "1978-02-10",
         "\"00:00:00\"",
         "25.5725"
        ],
        [
         "383553",
         "60476100",
         "1",
         "1978-02-11",
         "\"00:00:00\"",
         "20.9356"
        ],
        [
         "383554",
         "60476100",
         "1",
         "1978-02-12",
         "\"00:00:00\"",
         "24.5144"
        ],
        [
         "383555",
         "60476100",
         "1",
         "1978-02-13",
         "\"00:00:00\"",
         "44.2057"
        ],
        [
         "383556",
         "60476100",
         "1",
         "1978-02-14",
         "\"00:00:00\"",
         "34.2062"
        ],
        [
         "383557",
         "60476100",
         "1",
         "1978-02-15",
         "\"00:00:00\"",
         "24.7259"
        ],
        [
         "383558",
         "60476100",
         "1",
         "1978-02-16",
         "\"00:00:00\"",
         "25.8551"
        ],
        [
         "383559",
         "60476100",
         "1",
         "1978-02-17",
         "\"00:00:00\"",
         "26.8453"
        ],
        [
         "383560",
         "60476100",
         "1",
         "1978-02-18",
         "\"00:00:00\"",
         "39.9054"
        ],
        [
         "383561",
         "60476100",
         "1",
         "1978-02-19",
         "\"00:00:00\"",
         "29.1159"
        ]
       ],
       "shape": {
        "columns": 5,
        "rows": 13514
       }
      },
      "text/html": [
       "<div>\n",
       "<style scoped>\n",
       "    .dataframe tbody tr th:only-of-type {\n",
       "        vertical-align: middle;\n",
       "    }\n",
       "\n",
       "    .dataframe tbody tr th {\n",
       "        vertical-align: top;\n",
       "    }\n",
       "\n",
       "    .dataframe thead th {\n",
       "        text-align: right;\n",
       "    }\n",
       "</style>\n",
       "<table border=\"1\" class=\"dataframe\">\n",
       "  <thead>\n",
       "    <tr style=\"text-align: right;\">\n",
       "      <th></th>\n",
       "      <th>cod_estacao</th>\n",
       "      <th>NivelConsistencia</th>\n",
       "      <th>Data</th>\n",
       "      <th>Hora</th>\n",
       "      <th>Vazao</th>\n",
       "    </tr>\n",
       "  </thead>\n",
       "  <tbody>\n",
       "    <tr>\n",
       "      <th>383512</th>\n",
       "      <td>60476100</td>\n",
       "      <td>1</td>\n",
       "      <td>1978-01-01</td>\n",
       "      <td>\"00:00:00\"</td>\n",
       "      <td>15.5264</td>\n",
       "    </tr>\n",
       "    <tr>\n",
       "      <th>383513</th>\n",
       "      <td>60476100</td>\n",
       "      <td>1</td>\n",
       "      <td>1978-01-02</td>\n",
       "      <td>\"00:00:00\"</td>\n",
       "      <td>18.9841</td>\n",
       "    </tr>\n",
       "    <tr>\n",
       "      <th>383514</th>\n",
       "      <td>60476100</td>\n",
       "      <td>1</td>\n",
       "      <td>1978-01-03</td>\n",
       "      <td>\"00:00:00\"</td>\n",
       "      <td>16.9050</td>\n",
       "    </tr>\n",
       "    <tr>\n",
       "      <th>383515</th>\n",
       "      <td>60476100</td>\n",
       "      <td>1</td>\n",
       "      <td>1978-01-04</td>\n",
       "      <td>\"00:00:00\"</td>\n",
       "      <td>16.2839</td>\n",
       "    </tr>\n",
       "    <tr>\n",
       "      <th>383516</th>\n",
       "      <td>60476100</td>\n",
       "      <td>1</td>\n",
       "      <td>1978-01-05</td>\n",
       "      <td>\"00:00:00\"</td>\n",
       "      <td>19.3318</td>\n",
       "    </tr>\n",
       "    <tr>\n",
       "      <th>...</th>\n",
       "      <td>...</td>\n",
       "      <td>...</td>\n",
       "      <td>...</td>\n",
       "      <td>...</td>\n",
       "      <td>...</td>\n",
       "    </tr>\n",
       "    <tr>\n",
       "      <th>397021</th>\n",
       "      <td>60476100</td>\n",
       "      <td>1</td>\n",
       "      <td>2014-12-27</td>\n",
       "      <td>\"00:00:00\"</td>\n",
       "      <td>9.2810</td>\n",
       "    </tr>\n",
       "    <tr>\n",
       "      <th>397022</th>\n",
       "      <td>60476100</td>\n",
       "      <td>1</td>\n",
       "      <td>2014-12-28</td>\n",
       "      <td>\"00:00:00\"</td>\n",
       "      <td>8.5576</td>\n",
       "    </tr>\n",
       "    <tr>\n",
       "      <th>397023</th>\n",
       "      <td>60476100</td>\n",
       "      <td>1</td>\n",
       "      <td>2014-12-29</td>\n",
       "      <td>\"00:00:00\"</td>\n",
       "      <td>8.0094</td>\n",
       "    </tr>\n",
       "    <tr>\n",
       "      <th>397024</th>\n",
       "      <td>60476100</td>\n",
       "      <td>1</td>\n",
       "      <td>2014-12-30</td>\n",
       "      <td>\"00:00:00\"</td>\n",
       "      <td>7.6258</td>\n",
       "    </tr>\n",
       "    <tr>\n",
       "      <th>397025</th>\n",
       "      <td>60476100</td>\n",
       "      <td>1</td>\n",
       "      <td>2014-12-31</td>\n",
       "      <td>\"00:00:00\"</td>\n",
       "      <td>11.5711</td>\n",
       "    </tr>\n",
       "  </tbody>\n",
       "</table>\n",
       "<p>13514 rows × 5 columns</p>\n",
       "</div>"
      ],
      "text/plain": [
       "        cod_estacao  NivelConsistencia        Data        Hora    Vazao\n",
       "383512     60476100                  1  1978-01-01  \"00:00:00\"  15.5264\n",
       "383513     60476100                  1  1978-01-02  \"00:00:00\"  18.9841\n",
       "383514     60476100                  1  1978-01-03  \"00:00:00\"  16.9050\n",
       "383515     60476100                  1  1978-01-04  \"00:00:00\"  16.2839\n",
       "383516     60476100                  1  1978-01-05  \"00:00:00\"  19.3318\n",
       "...             ...                ...         ...         ...      ...\n",
       "397021     60476100                  1  2014-12-27  \"00:00:00\"   9.2810\n",
       "397022     60476100                  1  2014-12-28  \"00:00:00\"   8.5576\n",
       "397023     60476100                  1  2014-12-29  \"00:00:00\"   8.0094\n",
       "397024     60476100                  1  2014-12-30  \"00:00:00\"   7.6258\n",
       "397025     60476100                  1  2014-12-31  \"00:00:00\"  11.5711\n",
       "\n",
       "[13514 rows x 5 columns]"
      ]
     },
     "execution_count": 6,
     "metadata": {},
     "output_type": "execute_result"
    }
   ],
   "source": [
    "df"
   ]
  },
  {
   "cell_type": "code",
   "execution_count": 7,
   "id": "2748abf8",
   "metadata": {},
   "outputs": [
    {
     "name": "stdout",
     "output_type": "stream",
     "text": [
      "Calibração: 1978-01-01 00:00:00 → 2003-12-31 00:00:00\n",
      "Arquivo '60476100 cal 0.7 dia' criado com sucesso.\n",
      "Validação: 2004-01-01 00:00:00 → 2014-12-31 00:00:00\n",
      "Arquivo '60476100 val 0.7 dia' criado com sucesso.\n",
      "------------------------------------------------------------------------------\n",
      "Calibração: 1978-01-01 00:00:00 → 1989-12-31 00:00:00\n",
      "Arquivo '60476100 cal 0.3 dia' criado com sucesso.\n",
      "Validação: 1990-01-01 00:00:00 → 2014-12-31 00:00:00\n",
      "Arquivo '60476100 val 0.3 dia' criado com sucesso.\n",
      "------------------------------------------------------------------------------\n",
      "Calibração: 1978-01-01 00:00:00 → 2003-12-01 00:00:00\n",
      "Arquivo '60476100 cal 0.7 meses' criado com sucesso.\n",
      "Validação: 2004-01-01 00:00:00 → 2014-12-01 00:00:00\n",
      "Arquivo '60476100 val 0.7 meses' criado com sucesso.\n",
      "------------------------------------------------------------------------------\n",
      "Calibração: 1978-01-01 00:00:00 → 1989-12-01 00:00:00\n",
      "Arquivo '60476100 cal 0.3 meses' criado com sucesso.\n",
      "Validação: 1990-01-01 00:00:00 → 2014-12-01 00:00:00\n",
      "Arquivo '60476100 val 0.3 meses' criado com sucesso.\n"
     ]
    }
   ],
   "source": [
    "criar_arquivo_dados_vazao_SWATCUP_condicionamento_dia(df, \"Vazao\", '60476100', condicao=\"cal\", texto=\"FLOW_OUT\", proporcao_cal=0.7)\n",
    "criar_arquivo_dados_vazao_SWATCUP_condicionamento_dia(df, \"Vazao\", '60476100', condicao=\"val\", texto=\"FLOW_OUT\", proporcao_cal=0.7)\n",
    "\n",
    "print(\"------------------------------------------------------------------------------\")\n",
    "\n",
    "criar_arquivo_dados_vazao_SWATCUP_condicionamento_dia(df, \"Vazao\", '60476100', condicao=\"cal\", texto=\"FLOW_OUT\", proporcao_cal=0.3)\n",
    "criar_arquivo_dados_vazao_SWATCUP_condicionamento_dia(df, \"Vazao\", '60476100', condicao=\"val\", texto=\"FLOW_OUT\", proporcao_cal=0.3)\n",
    "\n",
    "print(\"------------------------------------------------------------------------------\")\n",
    "\n",
    "criar_arquivo_dados_vazao_SWATCUP_condicionamento_mes(df, \"Vazao\", '60476100', condicao=\"cal\", texto=\"FLOW_OUT\", proporcao_cal=0.7)\n",
    "criar_arquivo_dados_vazao_SWATCUP_condicionamento_mes(df, \"Vazao\", '60476100', condicao=\"val\", texto=\"FLOW_OUT\", proporcao_cal=0.7)\n",
    "\n",
    "print(\"------------------------------------------------------------------------------\")\n",
    "\n",
    "criar_arquivo_dados_vazao_SWATCUP_condicionamento_mes(df, \"Vazao\", '60476100', condicao=\"cal\", texto=\"FLOW_OUT\", proporcao_cal=0.3)\n",
    "criar_arquivo_dados_vazao_SWATCUP_condicionamento_mes(df, \"Vazao\", '60476100', condicao=\"val\", texto=\"FLOW_OUT\", proporcao_cal=0.3)"
   ]
  }
 ],
 "metadata": {
  "kernelspec": {
   "display_name": "geo_py312",
   "language": "python",
   "name": "python3"
  },
  "language_info": {
   "codemirror_mode": {
    "name": "ipython",
    "version": 3
   },
   "file_extension": ".py",
   "mimetype": "text/x-python",
   "name": "python",
   "nbconvert_exporter": "python",
   "pygments_lexer": "ipython3",
   "version": "3.12.5"
  }
 },
 "nbformat": 4,
 "nbformat_minor": 5
}
