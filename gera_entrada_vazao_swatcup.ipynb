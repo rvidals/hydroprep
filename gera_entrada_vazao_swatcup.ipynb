{
 "cells": [
  {
   "cell_type": "code",
   "execution_count": 1,
   "id": "31c84cf8",
   "metadata": {},
   "outputs": [],
   "source": [
    "import os\n",
    "import pandas as pd\n",
    "from datetime import datetime\n",
    "from tqdm import tqdm   # Acrescentado tqdm para barra de progresso"
   ]
  },
  {
   "cell_type": "code",
   "execution_count": 2,
   "id": "0861ee4b",
   "metadata": {},
   "outputs": [],
   "source": [
    "def ler_csv(arquivo_csv, cod_estacao, dt_inicio, dt_fim):\n",
    "    \"\"\"Lê o csv.\"\"\"\n",
    "    df = pd.read_csv(arquivo_csv, sep='\\\\t', engine='python')\n",
    "    # Corrigir nomes das colunas para remover aspas e facilitar o acesso\n",
    "    df.columns = [col.strip().replace('\"', '') for col in df.columns]\n",
    "    df.rename(columns={\"Cod.estacao\": \"cod_estacao\"}, inplace=True)\n",
    "    df = df[df[\"cod_estacao\"] == cod_estacao]\n",
    "    df = df[(df[\"Data\"] >= dt_inicio) & (df[\"Data\"] <= dt_fim)]\n",
    "    return df\n",
    "\n",
    "def criar_arquivo_dados_vazao_SWATCUP_geral(df, var_nome: str, nome_arquivo: str, texto: str = \"FLOW_OUT\"):\n",
    "    \"\"\"Cria um arquivo de dados de vazão formatado.\"\"\"\n",
    "\n",
    "    df['n'] = df.index + 1\n",
    "    df[var_nome] = df[var_nome].round(2)\n",
    "\n",
    "    with open(f\"{nome_arquivo}.txt\", 'w') as f:\n",
    "\n",
    "        for index, row in df.iterrows():\n",
    "            data = row['Data']\n",
    "            data = data.strftime(\"%d_%m_%Y\")\n",
    "            f.write(f\"\\t{texto}_{data}\\t{row['n']}\\t{row[var_nome]}\\n\")\n",
    "        print(f\"Arquivo '{nome_arquivo}' criado com sucesso.\")\n",
    "\n",
    "def criar_arquivo_dados_vazao_SWATCUP_condicionamento_dia(\n",
    "    df, var_nome: str, nome_arquivo: str, condicao: str, texto: str = \"FLOW_OUT\", proporcao_cal: float = 0.7\n",
    "):\n",
    "    \"\"\"\n",
    "    Cria um arquivo de dados de vazão formatado e faz o split em anos completos.\n",
    "    'condicao' pode ser 'cal' (calibração) ou 'val' (validação).\n",
    "    'proporcao_cal' permite inverter: 0.3 para calibrar com 30% inicial, 0.7 padrão para 70% inicial.\n",
    "    \"\"\"\n",
    "    # resetar index \n",
    "    df['n'] = df.reset_index(drop=True).index + 1\n",
    "    df[var_nome] = df[var_nome].round(2)\n",
    "    df['Data'] = pd.to_datetime(df['Data'])\n",
    "    df = df[df[var_nome].notna()]\n",
    "    \n",
    "    \n",
    "    # Encontrar o cutoff em proporção de linhas\n",
    "    cutoff_idx = int(len(df) * proporcao_cal)\n",
    "    cutoff_data = df.iloc[cutoff_idx]['Data']\n",
    "    cutoff_year = cutoff_data.year\n",
    "    \n",
    "    if condicao == \"cal\":\n",
    "        # Calibração: até o último dia do ano do cutoff\n",
    "        fim_cal = pd.Timestamp(year=cutoff_year, month=12, day=31)\n",
    "        df_sel = df[df['Data'] <= fim_cal]\n",
    "        print(\"Calibração:\", df_sel[\"Data\"].min(), \"→\", df_sel[\"Data\"].max())\n",
    "    elif condicao == \"val\":\n",
    "        # Validação: a partir do primeiro dia do ano seguinte ao cutoff\n",
    "        ini_val = pd.Timestamp(year=cutoff_year + 1, month=1, day=1)\n",
    "        df_sel = df[df['Data'] >= ini_val]\n",
    "        print(\"Validação:\", df_sel[\"Data\"].min(), \"→\", df_sel[\"Data\"].max())\n",
    "    else:\n",
    "        raise ValueError(\"condicao deve ser 'cal' ou 'val'\")\n",
    "\n",
    "    with open(f\"{nome_arquivo}_{condicao}_{proporcao_cal}_dia.txt\", 'w') as f:\n",
    "\n",
    "        for index, row in df_sel.iterrows():\n",
    "            data = row['Data']\n",
    "            \n",
    "            data = data.strftime(\"%d_%m_%Y\")\n",
    "            f.write(f\"{row['n']}\\t{texto}_{data}\\t{row[var_nome]}\\n\")\n",
    "        print(f\"Arquivo '{nome_arquivo} {condicao} {proporcao_cal} dia' criado com sucesso.\")\n",
    "\n",
    "def criar_arquivo_dados_vazao_SWATCUP_condicionamento_mes(\n",
    "    df, var_nome: str, nome_arquivo: str, condicao: str, texto: str = \"FLOW_OUT\", proporcao_cal: float = 0.7\n",
    "):\n",
    "    \"\"\"\n",
    "    Cria um arquivo de dados de vazão formatado e faz o split em anos completos.\n",
    "    'condicao' pode ser 'cal' (calibração) ou 'val' (validação).\n",
    "    'proporcao_cal' permite inverter: 0.3 para calibrar com 30% inicial, 0.7 padrão para 70% inicial.\n",
    "    \"\"\"\n",
    "\n",
    "    monthly = df.groupby(df['Data'].dt.to_period(\"M\"))[[var_nome]].mean().reset_index()\n",
    "    monthly['Data'] = monthly['Data'].dt.to_timestamp()  # Converte Period para Timestamp (primeiro dia do mês)\n",
    "    monthly[var_nome] = monthly[var_nome].round(2)\n",
    "    monthly['n'] = monthly.reset_index(drop=True).index + 1\n",
    "    monthly = monthly[monthly[var_nome].notna()]\n",
    "\n",
    "    # Encontrar o cutoff em proporção de linhas\n",
    "    cutoff_idx = int(len(monthly) * proporcao_cal)\n",
    "    cutoff_data = monthly.iloc[cutoff_idx]['Data']\n",
    "    cutoff_year = cutoff_data.year\n",
    "    \n",
    "    if condicao == \"cal\":\n",
    "        # Calibração: até o último dia do ano do cutoff\n",
    "        fim_cal = pd.Timestamp(year=cutoff_year, month=12, day=31)\n",
    "        df_sel = monthly[monthly['Data'] <= fim_cal]\n",
    "        print(\"Calibração:\", df_sel[\"Data\"].min(), \"→\", df_sel[\"Data\"].max())\n",
    "    elif condicao == \"val\":\n",
    "        # Validação: a partir do primeiro dia do ano seguinte ao cutoff\n",
    "        ini_val = pd.Timestamp(year=cutoff_year + 1, month=1, day=1)\n",
    "        df_sel = monthly[monthly['Data'] >= ini_val]\n",
    "        print(\"Validação:\", df_sel[\"Data\"].min(), \"→\", df_sel[\"Data\"].max())\n",
    "    else:\n",
    "        raise ValueError(\"condicao deve ser 'cal' ou 'val'\")\n",
    "    \n",
    "    with open(f\"{nome_arquivo}_{condicao}_{proporcao_cal}_mes.txt\", 'w') as f:\n",
    "\n",
    "        for index, row in df_sel.iterrows():\n",
    "            data = row['Data']\n",
    "            \n",
    "            data = data.strftime(\"%m_%Y\")\n",
    "            # print(data)\n",
    "            f.write(f\"{row['n']}\\t{texto}_{data}\\t{row[var_nome]}\\n\")\n",
    "        print(f\"Arquivo '{nome_arquivo} {condicao} {proporcao_cal} meses' criado com sucesso.\")\n",
    "\n",
    "def criar_arquivo_dados_vazao_SWATCUP_validacao_txt(df, var_nome, nome_arquivo ):\n",
    "    \"\"\"\n",
    "    Cria um arquivo de dados de vazão formatado.\n",
    "    \"\"\"\n",
    "\n",
    "    with open(f\"{nome_arquivo}.txt\", 'w') as f:\n",
    "\n",
    "        for index, row in df.iterrows():\n",
    "            f.write(f\"{row[var_nome]}\\n\")\n",
    "        print(f\"Arquivo '{nome_arquivo}' criado com sucesso.\")"
   ]
  },
  {
   "cell_type": "code",
   "execution_count": 3,
   "id": "218b3795",
   "metadata": {},
   "outputs": [],
   "source": [
    "df = ler_csv(\"FLU_Series_ANA.txt\", 60490000, \"1971-01-01\", \"2008-12-31\")"
   ]
  },
  {
   "cell_type": "code",
   "execution_count": 4,
   "id": "178088d0",
   "metadata": {},
   "outputs": [
    {
     "name": "stdout",
     "output_type": "stream",
     "text": [
      "Existem valores nulos na coluna 'Vazao'\n"
     ]
    }
   ],
   "source": [
    "# Checar se há nan ou null na coluna 'Vazao'\n",
    "if df['Vazao'].isnull().values.any():\n",
    "    print(\"Existem valores nulos na coluna 'Vazao'\")\n",
    "\n",
    "# Mostrar que linhas são\n",
    "    df_nan = df[df['Vazao'].isnull()]"
   ]
  },
  {
   "cell_type": "code",
   "execution_count": 5,
   "id": "a2cacc6b",
   "metadata": {},
   "outputs": [
    {
     "data": {
      "application/vnd.microsoft.datawrangler.viewer.v0+json": {
       "columns": [
        {
         "name": "index",
         "rawType": "int64",
         "type": "integer"
        },
        {
         "name": "cod_estacao",
         "rawType": "int64",
         "type": "integer"
        },
        {
         "name": "NivelConsistencia",
         "rawType": "int64",
         "type": "integer"
        },
        {
         "name": "Data",
         "rawType": "object",
         "type": "string"
        },
        {
         "name": "Hora",
         "rawType": "object",
         "type": "string"
        },
        {
         "name": "Vazao",
         "rawType": "float64",
         "type": "float"
        }
       ],
       "ref": "d9114556-2eb1-414e-9ba9-4d1e273d5b91",
       "rows": [
        [
         "592323",
         "60490000",
         "1",
         "1976-05-07",
         "\"00:00:00\"",
         null
        ],
        [
         "592324",
         "60490000",
         "1",
         "1976-05-08",
         "\"00:00:00\"",
         null
        ],
        [
         "592325",
         "60490000",
         "1",
         "1976-05-09",
         "\"00:00:00\"",
         null
        ],
        [
         "592326",
         "60490000",
         "1",
         "1976-05-10",
         "\"00:00:00\"",
         null
        ],
        [
         "592327",
         "60490000",
         "1",
         "1976-05-11",
         "\"00:00:00\"",
         null
        ],
        [
         "592328",
         "60490000",
         "1",
         "1976-05-12",
         "\"00:00:00\"",
         null
        ],
        [
         "592329",
         "60490000",
         "1",
         "1976-05-13",
         "\"00:00:00\"",
         null
        ],
        [
         "592330",
         "60490000",
         "1",
         "1976-05-14",
         "\"00:00:00\"",
         null
        ],
        [
         "592331",
         "60490000",
         "1",
         "1976-05-15",
         "\"00:00:00\"",
         null
        ],
        [
         "592332",
         "60490000",
         "1",
         "1976-05-16",
         "\"00:00:00\"",
         null
        ],
        [
         "592333",
         "60490000",
         "1",
         "1976-05-17",
         "\"00:00:00\"",
         null
        ],
        [
         "592334",
         "60490000",
         "1",
         "1976-05-18",
         "\"00:00:00\"",
         null
        ],
        [
         "592335",
         "60490000",
         "1",
         "1976-05-19",
         "\"00:00:00\"",
         null
        ],
        [
         "592336",
         "60490000",
         "1",
         "1976-05-20",
         "\"00:00:00\"",
         null
        ],
        [
         "592337",
         "60490000",
         "1",
         "1976-05-21",
         "\"00:00:00\"",
         null
        ],
        [
         "592338",
         "60490000",
         "1",
         "1976-05-22",
         "\"00:00:00\"",
         null
        ],
        [
         "592339",
         "60490000",
         "1",
         "1976-05-23",
         "\"00:00:00\"",
         null
        ],
        [
         "592340",
         "60490000",
         "1",
         "1976-05-24",
         "\"00:00:00\"",
         null
        ],
        [
         "592341",
         "60490000",
         "1",
         "1976-05-25",
         "\"00:00:00\"",
         null
        ],
        [
         "592342",
         "60490000",
         "1",
         "1976-05-26",
         "\"00:00:00\"",
         null
        ],
        [
         "592343",
         "60490000",
         "1",
         "1976-05-27",
         "\"00:00:00\"",
         null
        ],
        [
         "592344",
         "60490000",
         "1",
         "1976-05-28",
         "\"00:00:00\"",
         null
        ],
        [
         "592345",
         "60490000",
         "1",
         "1976-05-29",
         "\"00:00:00\"",
         null
        ],
        [
         "592346",
         "60490000",
         "1",
         "1976-05-30",
         "\"00:00:00\"",
         null
        ],
        [
         "592347",
         "60490000",
         "1",
         "1976-05-31",
         "\"00:00:00\"",
         null
        ],
        [
         "592348",
         "60490000",
         "1",
         "1976-06-01",
         "\"00:00:00\"",
         null
        ],
        [
         "592349",
         "60490000",
         "1",
         "1976-06-02",
         "\"00:00:00\"",
         null
        ],
        [
         "592350",
         "60490000",
         "1",
         "1976-06-03",
         "\"00:00:00\"",
         null
        ],
        [
         "592351",
         "60490000",
         "1",
         "1976-06-04",
         "\"00:00:00\"",
         null
        ],
        [
         "592352",
         "60490000",
         "1",
         "1976-06-05",
         "\"00:00:00\"",
         null
        ],
        [
         "592353",
         "60490000",
         "1",
         "1976-06-06",
         "\"00:00:00\"",
         null
        ],
        [
         "592354",
         "60490000",
         "1",
         "1976-06-07",
         "\"00:00:00\"",
         null
        ],
        [
         "592355",
         "60490000",
         "1",
         "1976-06-08",
         "\"00:00:00\"",
         null
        ],
        [
         "592356",
         "60490000",
         "1",
         "1976-06-09",
         "\"00:00:00\"",
         null
        ],
        [
         "592357",
         "60490000",
         "1",
         "1976-06-10",
         "\"00:00:00\"",
         null
        ],
        [
         "592358",
         "60490000",
         "1",
         "1976-06-11",
         "\"00:00:00\"",
         null
        ],
        [
         "592359",
         "60490000",
         "1",
         "1976-06-12",
         "\"00:00:00\"",
         null
        ],
        [
         "592360",
         "60490000",
         "1",
         "1976-06-13",
         "\"00:00:00\"",
         null
        ],
        [
         "592361",
         "60490000",
         "1",
         "1976-06-14",
         "\"00:00:00\"",
         null
        ],
        [
         "592362",
         "60490000",
         "1",
         "1976-06-15",
         "\"00:00:00\"",
         null
        ],
        [
         "592363",
         "60490000",
         "1",
         "1976-06-16",
         "\"00:00:00\"",
         null
        ],
        [
         "592364",
         "60490000",
         "1",
         "1976-06-17",
         "\"00:00:00\"",
         null
        ],
        [
         "592365",
         "60490000",
         "1",
         "1976-06-18",
         "\"00:00:00\"",
         null
        ],
        [
         "592366",
         "60490000",
         "1",
         "1976-06-19",
         "\"00:00:00\"",
         null
        ],
        [
         "592367",
         "60490000",
         "1",
         "1976-06-20",
         "\"00:00:00\"",
         null
        ],
        [
         "592368",
         "60490000",
         "1",
         "1976-06-21",
         "\"00:00:00\"",
         null
        ],
        [
         "592369",
         "60490000",
         "1",
         "1976-06-22",
         "\"00:00:00\"",
         null
        ],
        [
         "592370",
         "60490000",
         "1",
         "1976-06-23",
         "\"00:00:00\"",
         null
        ],
        [
         "592371",
         "60490000",
         "1",
         "1976-06-24",
         "\"00:00:00\"",
         null
        ],
        [
         "592372",
         "60490000",
         "1",
         "1976-06-25",
         "\"00:00:00\"",
         null
        ]
       ],
       "shape": {
        "columns": 5,
        "rows": 359
       }
      },
      "text/html": [
       "<div>\n",
       "<style scoped>\n",
       "    .dataframe tbody tr th:only-of-type {\n",
       "        vertical-align: middle;\n",
       "    }\n",
       "\n",
       "    .dataframe tbody tr th {\n",
       "        vertical-align: top;\n",
       "    }\n",
       "\n",
       "    .dataframe thead th {\n",
       "        text-align: right;\n",
       "    }\n",
       "</style>\n",
       "<table border=\"1\" class=\"dataframe\">\n",
       "  <thead>\n",
       "    <tr style=\"text-align: right;\">\n",
       "      <th></th>\n",
       "      <th>cod_estacao</th>\n",
       "      <th>NivelConsistencia</th>\n",
       "      <th>Data</th>\n",
       "      <th>Hora</th>\n",
       "      <th>Vazao</th>\n",
       "    </tr>\n",
       "  </thead>\n",
       "  <tbody>\n",
       "    <tr>\n",
       "      <th>592323</th>\n",
       "      <td>60490000</td>\n",
       "      <td>1</td>\n",
       "      <td>1976-05-07</td>\n",
       "      <td>\"00:00:00\"</td>\n",
       "      <td>NaN</td>\n",
       "    </tr>\n",
       "    <tr>\n",
       "      <th>592324</th>\n",
       "      <td>60490000</td>\n",
       "      <td>1</td>\n",
       "      <td>1976-05-08</td>\n",
       "      <td>\"00:00:00\"</td>\n",
       "      <td>NaN</td>\n",
       "    </tr>\n",
       "    <tr>\n",
       "      <th>592325</th>\n",
       "      <td>60490000</td>\n",
       "      <td>1</td>\n",
       "      <td>1976-05-09</td>\n",
       "      <td>\"00:00:00\"</td>\n",
       "      <td>NaN</td>\n",
       "    </tr>\n",
       "    <tr>\n",
       "      <th>592326</th>\n",
       "      <td>60490000</td>\n",
       "      <td>1</td>\n",
       "      <td>1976-05-10</td>\n",
       "      <td>\"00:00:00\"</td>\n",
       "      <td>NaN</td>\n",
       "    </tr>\n",
       "    <tr>\n",
       "      <th>592327</th>\n",
       "      <td>60490000</td>\n",
       "      <td>1</td>\n",
       "      <td>1976-05-11</td>\n",
       "      <td>\"00:00:00\"</td>\n",
       "      <td>NaN</td>\n",
       "    </tr>\n",
       "    <tr>\n",
       "      <th>...</th>\n",
       "      <td>...</td>\n",
       "      <td>...</td>\n",
       "      <td>...</td>\n",
       "      <td>...</td>\n",
       "      <td>...</td>\n",
       "    </tr>\n",
       "    <tr>\n",
       "      <th>592677</th>\n",
       "      <td>60490000</td>\n",
       "      <td>1</td>\n",
       "      <td>1977-04-26</td>\n",
       "      <td>\"00:00:00\"</td>\n",
       "      <td>NaN</td>\n",
       "    </tr>\n",
       "    <tr>\n",
       "      <th>592678</th>\n",
       "      <td>60490000</td>\n",
       "      <td>1</td>\n",
       "      <td>1977-04-27</td>\n",
       "      <td>\"00:00:00\"</td>\n",
       "      <td>NaN</td>\n",
       "    </tr>\n",
       "    <tr>\n",
       "      <th>592679</th>\n",
       "      <td>60490000</td>\n",
       "      <td>1</td>\n",
       "      <td>1977-04-28</td>\n",
       "      <td>\"00:00:00\"</td>\n",
       "      <td>NaN</td>\n",
       "    </tr>\n",
       "    <tr>\n",
       "      <th>592680</th>\n",
       "      <td>60490000</td>\n",
       "      <td>1</td>\n",
       "      <td>1977-04-29</td>\n",
       "      <td>\"00:00:00\"</td>\n",
       "      <td>NaN</td>\n",
       "    </tr>\n",
       "    <tr>\n",
       "      <th>592681</th>\n",
       "      <td>60490000</td>\n",
       "      <td>1</td>\n",
       "      <td>1977-04-30</td>\n",
       "      <td>\"00:00:00\"</td>\n",
       "      <td>NaN</td>\n",
       "    </tr>\n",
       "  </tbody>\n",
       "</table>\n",
       "<p>359 rows × 5 columns</p>\n",
       "</div>"
      ],
      "text/plain": [
       "        cod_estacao  NivelConsistencia        Data        Hora  Vazao\n",
       "592323     60490000                  1  1976-05-07  \"00:00:00\"    NaN\n",
       "592324     60490000                  1  1976-05-08  \"00:00:00\"    NaN\n",
       "592325     60490000                  1  1976-05-09  \"00:00:00\"    NaN\n",
       "592326     60490000                  1  1976-05-10  \"00:00:00\"    NaN\n",
       "592327     60490000                  1  1976-05-11  \"00:00:00\"    NaN\n",
       "...             ...                ...         ...         ...    ...\n",
       "592677     60490000                  1  1977-04-26  \"00:00:00\"    NaN\n",
       "592678     60490000                  1  1977-04-27  \"00:00:00\"    NaN\n",
       "592679     60490000                  1  1977-04-28  \"00:00:00\"    NaN\n",
       "592680     60490000                  1  1977-04-29  \"00:00:00\"    NaN\n",
       "592681     60490000                  1  1977-04-30  \"00:00:00\"    NaN\n",
       "\n",
       "[359 rows x 5 columns]"
      ]
     },
     "execution_count": 5,
     "metadata": {},
     "output_type": "execute_result"
    }
   ],
   "source": [
    "df_nan\n"
   ]
  },
  {
   "cell_type": "code",
   "execution_count": 6,
   "id": "2748abf8",
   "metadata": {},
   "outputs": [
    {
     "name": "stdout",
     "output_type": "stream",
     "text": [
      "Calibração: 1971-01-01 00:00:00 → 1997-12-31 00:00:00\n",
      "Arquivo '60490000 cal 0.7 dia' criado com sucesso.\n",
      "Validação: 1998-01-01 00:00:00 → 2008-12-31 00:00:00\n",
      "Arquivo '60490000 val 0.7 dia' criado com sucesso.\n"
     ]
    }
   ],
   "source": [
    "criar_arquivo_dados_vazao_SWATCUP_condicionamento_dia(df, \"Vazao\", '60490000', condicao=\"cal\", texto=\"FLOW_OUT\", proporcao_cal=0.7)\n",
    "criar_arquivo_dados_vazao_SWATCUP_condicionamento_dia(df, \"Vazao\", '60490000', condicao=\"val\", texto=\"FLOW_OUT\", proporcao_cal=0.7)\n"
   ]
  },
  {
   "cell_type": "code",
   "execution_count": 7,
   "id": "53b88736",
   "metadata": {},
   "outputs": [
    {
     "name": "stdout",
     "output_type": "stream",
     "text": [
      "Calibração: 1971-01-01 00:00:00 → 1983-12-31 00:00:00\n",
      "Arquivo '60490000 cal 0.3 dia' criado com sucesso.\n",
      "Validação: 1984-01-01 00:00:00 → 2008-12-31 00:00:00\n",
      "Arquivo '60490000 val 0.3 dia' criado com sucesso.\n"
     ]
    }
   ],
   "source": [
    "criar_arquivo_dados_vazao_SWATCUP_condicionamento_dia(df, \"Vazao\", '60490000', condicao=\"cal\", texto=\"FLOW_OUT\", proporcao_cal=0.3)\n",
    "criar_arquivo_dados_vazao_SWATCUP_condicionamento_dia(df, \"Vazao\", '60490000', condicao=\"val\", texto=\"FLOW_OUT\", proporcao_cal=0.3)"
   ]
  },
  {
   "cell_type": "code",
   "execution_count": 8,
   "id": "8dfefd49",
   "metadata": {},
   "outputs": [
    {
     "name": "stdout",
     "output_type": "stream",
     "text": [
      "Calibração: 1971-01-01 00:00:00 → 1997-12-01 00:00:00\n",
      "Arquivo '60490000 cal 0.7 meses' criado com sucesso.\n",
      "Validação: 1998-01-01 00:00:00 → 2008-12-01 00:00:00\n",
      "Arquivo '60490000 val 0.7 meses' criado com sucesso.\n"
     ]
    }
   ],
   "source": [
    "criar_arquivo_dados_vazao_SWATCUP_condicionamento_mes(df, \"Vazao\", '60490000', condicao=\"cal\", texto=\"FLOW_OUT\", proporcao_cal=0.7)\n",
    "criar_arquivo_dados_vazao_SWATCUP_condicionamento_mes(df, \"Vazao\", '60490000', condicao=\"val\", texto=\"FLOW_OUT\", proporcao_cal=0.7)"
   ]
  },
  {
   "cell_type": "code",
   "execution_count": 9,
   "id": "a0c1039c",
   "metadata": {},
   "outputs": [
    {
     "name": "stdout",
     "output_type": "stream",
     "text": [
      "Calibração: 1971-01-01 00:00:00 → 1983-12-01 00:00:00\n",
      "Arquivo '60490000 cal 0.3 meses' criado com sucesso.\n",
      "Validação: 1984-01-01 00:00:00 → 2008-12-01 00:00:00\n",
      "Arquivo '60490000 val 0.3 meses' criado com sucesso.\n"
     ]
    }
   ],
   "source": [
    "criar_arquivo_dados_vazao_SWATCUP_condicionamento_mes(df, \"Vazao\", '60490000', condicao=\"cal\", texto=\"FLOW_OUT\", proporcao_cal=0.3)\n",
    "criar_arquivo_dados_vazao_SWATCUP_condicionamento_mes(df, \"Vazao\", '60490000', condicao=\"val\", texto=\"FLOW_OUT\", proporcao_cal=0.3)"
   ]
  }
 ],
 "metadata": {
  "kernelspec": {
   "display_name": "geo_py311",
   "language": "python",
   "name": "python3"
  },
  "language_info": {
   "codemirror_mode": {
    "name": "ipython",
    "version": 3
   },
   "file_extension": ".py",
   "mimetype": "text/x-python",
   "name": "python",
   "nbconvert_exporter": "python",
   "pygments_lexer": "ipython3",
   "version": "3.11.8"
  }
 },
 "nbformat": 4,
 "nbformat_minor": 5
}
